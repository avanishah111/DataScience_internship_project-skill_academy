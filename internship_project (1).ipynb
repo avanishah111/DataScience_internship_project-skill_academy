{
 "cells": [
  {
   "cell_type": "markdown",
   "id": "522ffd82",
   "metadata": {},
   "source": [
    "Data Science internship project by Avani Shah\n",
    "batch 5"
   ]
  },
  {
   "cell_type": "code",
   "execution_count": 1,
   "id": "762d16a0",
   "metadata": {},
   "outputs": [],
   "source": [
    "!pip install numpy>=1.20\n"
   ]
  },
  {
   "cell_type": "code",
   "execution_count": 2,
   "id": "3007377c",
   "metadata": {},
   "outputs": [],
   "source": [
    "# import libraies\n",
    "import pandas as pd\n",
    "import matplotlib.pyplot as plt\n",
    "import seaborn as sns\n",
    "from sklearn.model_selection import train_test_split\n",
    "from sklearn.preprocessing import OneHotEncoder, StandardScaler\n",
    "from sklearn.compose import ColumnTransformer\n",
    "from sklearn.linear_model import LinearRegression\n",
    "from sklearn.ensemble import RandomForestRegressor\n",
    "from sklearn.metrics import mean_squared_error\n",
    "from sklearn.linear_model import LinearRegression , LogisticRegression \n",
    "from sklearn.metrics import mean_squared_error, r2_score, accuracy_score, precision_score, recall_score, f1_score, roc_auc_score\n",
    "from sklearn.linear_model import LinearRegression , LogisticRegression \n",
    "from sklearn.metrics import mean_squared_error,r2_score, accuracy_score, precision_score, recall_score, f1_score, roc_auc_score\n",
    "from joblib import dump, load\n",
    "import pickle\n"
   ]
  },
  {
   "cell_type": "code",
   "execution_count": 3,
   "id": "9c1486b3",
   "metadata": {},
   "outputs": [],
   "source": [
    "import numpy\n",
    "import matplotlib"
   ]
  },
  {
   "cell_type": "code",
   "execution_count": null,
   "id": "cfc2192e",
   "metadata": {},
   "outputs": [],
   "source": []
  },
  {
   "cell_type": "code",
   "execution_count": null,
   "id": "c4d4c39c",
   "metadata": {},
   "outputs": [],
   "source": []
  },
  {
   "cell_type": "code",
   "execution_count": 4,
   "id": "0be4d4dd",
   "metadata": {
    "scrolled": true
   },
   "outputs": [],
   "source": [
    "# Load and clean the data\n",
    "order_data = pd.read_csv(r\"C:\\Users\\avani\\Downloads\\Order.tsv\", sep='\\t')\n",
    "order_breakdown_data = pd.read_json(r\"C:\\Users\\avani\\Downloads\\Order_breakdown.json\")\n",
    "merged_data = pd.merge(order_data, order_breakdown_data, on='Order ID')"
   ]
  },
  {
   "cell_type": "code",
   "execution_count": 5,
   "id": "e8b0b907",
   "metadata": {},
   "outputs": [
    {
     "data": {
      "text/html": [
       "<div>\n",
       "<style scoped>\n",
       "    .dataframe tbody tr th:only-of-type {\n",
       "        vertical-align: middle;\n",
       "    }\n",
       "\n",
       "    .dataframe tbody tr th {\n",
       "        vertical-align: top;\n",
       "    }\n",
       "\n",
       "    .dataframe thead th {\n",
       "        text-align: right;\n",
       "    }\n",
       "</style>\n",
       "<table border=\"1\" class=\"dataframe\">\n",
       "  <thead>\n",
       "    <tr style=\"text-align: right;\">\n",
       "      <th></th>\n",
       "      <th>Order ID</th>\n",
       "      <th>Order Date</th>\n",
       "      <th>Customer Name</th>\n",
       "      <th>City</th>\n",
       "      <th>Country</th>\n",
       "      <th>Region</th>\n",
       "      <th>Segment</th>\n",
       "      <th>Ship Date</th>\n",
       "      <th>Ship Mode</th>\n",
       "      <th>State</th>\n",
       "      <th>Days to Ship</th>\n",
       "      <th>Product Name</th>\n",
       "      <th>Discount</th>\n",
       "      <th>Actual Discount</th>\n",
       "      <th>Sales</th>\n",
       "      <th>Profit</th>\n",
       "      <th>Quantity</th>\n",
       "      <th>Category</th>\n",
       "      <th>Sub-Category</th>\n",
       "    </tr>\n",
       "  </thead>\n",
       "  <tbody>\n",
       "    <tr>\n",
       "      <th>0</th>\n",
       "      <td>BN-2011-7407039</td>\n",
       "      <td>1-1-13</td>\n",
       "      <td>Ruby Patel</td>\n",
       "      <td>Stockholm</td>\n",
       "      <td>Sweden</td>\n",
       "      <td>North</td>\n",
       "      <td>Home Office</td>\n",
       "      <td>1-5-13</td>\n",
       "      <td>Economy Plus</td>\n",
       "      <td>Stockholm</td>\n",
       "      <td>4</td>\n",
       "      <td>Enermax Note Cards, Premium</td>\n",
       "      <td>0.5</td>\n",
       "      <td>22.5</td>\n",
       "      <td>45</td>\n",
       "      <td>-26</td>\n",
       "      <td>3</td>\n",
       "      <td>Office Supplies</td>\n",
       "      <td>Paper</td>\n",
       "    </tr>\n",
       "    <tr>\n",
       "      <th>1</th>\n",
       "      <td>AZ-2011-9050313</td>\n",
       "      <td>1-3-13</td>\n",
       "      <td>Summer Hayward</td>\n",
       "      <td>Southport</td>\n",
       "      <td>United Kingdom</td>\n",
       "      <td>North</td>\n",
       "      <td>Consumer</td>\n",
       "      <td>1-7-13</td>\n",
       "      <td>Economy</td>\n",
       "      <td>England</td>\n",
       "      <td>4</td>\n",
       "      <td>Dania Corner Shelving, Traditional</td>\n",
       "      <td>0.0</td>\n",
       "      <td>0.0</td>\n",
       "      <td>854</td>\n",
       "      <td>290</td>\n",
       "      <td>7</td>\n",
       "      <td>Furniture</td>\n",
       "      <td>Bookcases</td>\n",
       "    </tr>\n",
       "    <tr>\n",
       "      <th>2</th>\n",
       "      <td>AZ-2011-6674300</td>\n",
       "      <td>1-4-13</td>\n",
       "      <td>Devin Huddleston</td>\n",
       "      <td>Valence</td>\n",
       "      <td>France</td>\n",
       "      <td>Central</td>\n",
       "      <td>Consumer</td>\n",
       "      <td>1-8-13</td>\n",
       "      <td>Economy</td>\n",
       "      <td>Auvergne-Rhône-Alpes</td>\n",
       "      <td>4</td>\n",
       "      <td>Binney &amp; Smith Sketch Pad, Easy-Erase</td>\n",
       "      <td>0.0</td>\n",
       "      <td>0.0</td>\n",
       "      <td>140</td>\n",
       "      <td>21</td>\n",
       "      <td>3</td>\n",
       "      <td>Office Supplies</td>\n",
       "      <td>Art</td>\n",
       "    </tr>\n",
       "    <tr>\n",
       "      <th>3</th>\n",
       "      <td>BN-2011-2819714</td>\n",
       "      <td>1-4-13</td>\n",
       "      <td>Mary Parker</td>\n",
       "      <td>Birmingham</td>\n",
       "      <td>United Kingdom</td>\n",
       "      <td>North</td>\n",
       "      <td>Corporate</td>\n",
       "      <td>1-9-13</td>\n",
       "      <td>Economy</td>\n",
       "      <td>England</td>\n",
       "      <td>5</td>\n",
       "      <td>Boston Markers, Easy-Erase</td>\n",
       "      <td>0.5</td>\n",
       "      <td>13.5</td>\n",
       "      <td>27</td>\n",
       "      <td>-22</td>\n",
       "      <td>2</td>\n",
       "      <td>Office Supplies</td>\n",
       "      <td>Art</td>\n",
       "    </tr>\n",
       "    <tr>\n",
       "      <th>4</th>\n",
       "      <td>BN-2011-2819714</td>\n",
       "      <td>1-4-13</td>\n",
       "      <td>Mary Parker</td>\n",
       "      <td>Birmingham</td>\n",
       "      <td>United Kingdom</td>\n",
       "      <td>North</td>\n",
       "      <td>Corporate</td>\n",
       "      <td>1-9-13</td>\n",
       "      <td>Economy</td>\n",
       "      <td>England</td>\n",
       "      <td>5</td>\n",
       "      <td>Eldon Folders, Single Width</td>\n",
       "      <td>0.5</td>\n",
       "      <td>8.5</td>\n",
       "      <td>17</td>\n",
       "      <td>-1</td>\n",
       "      <td>2</td>\n",
       "      <td>Office Supplies</td>\n",
       "      <td>Storage</td>\n",
       "    </tr>\n",
       "  </tbody>\n",
       "</table>\n",
       "</div>"
      ],
      "text/plain": [
       "          Order ID Order Date     Customer Name        City         Country  \\\n",
       "0  BN-2011-7407039     1-1-13        Ruby Patel   Stockholm          Sweden   \n",
       "1  AZ-2011-9050313     1-3-13    Summer Hayward   Southport  United Kingdom   \n",
       "2  AZ-2011-6674300     1-4-13  Devin Huddleston     Valence          France   \n",
       "3  BN-2011-2819714     1-4-13       Mary Parker  Birmingham  United Kingdom   \n",
       "4  BN-2011-2819714     1-4-13       Mary Parker  Birmingham  United Kingdom   \n",
       "\n",
       "    Region      Segment Ship Date     Ship Mode                 State  \\\n",
       "0    North  Home Office    1-5-13  Economy Plus             Stockholm   \n",
       "1    North     Consumer    1-7-13       Economy               England   \n",
       "2  Central     Consumer    1-8-13       Economy  Auvergne-Rhône-Alpes   \n",
       "3    North    Corporate    1-9-13       Economy               England   \n",
       "4    North    Corporate    1-9-13       Economy               England   \n",
       "\n",
       "   Days to Ship                           Product Name  Discount  \\\n",
       "0             4            Enermax Note Cards, Premium       0.5   \n",
       "1             4     Dania Corner Shelving, Traditional       0.0   \n",
       "2             4  Binney & Smith Sketch Pad, Easy-Erase       0.0   \n",
       "3             5             Boston Markers, Easy-Erase       0.5   \n",
       "4             5            Eldon Folders, Single Width       0.5   \n",
       "\n",
       "   Actual Discount  Sales  Profit  Quantity         Category Sub-Category  \n",
       "0             22.5     45     -26         3  Office Supplies        Paper  \n",
       "1              0.0    854     290         7        Furniture    Bookcases  \n",
       "2              0.0    140      21         3  Office Supplies          Art  \n",
       "3             13.5     27     -22         2  Office Supplies          Art  \n",
       "4              8.5     17      -1         2  Office Supplies      Storage  "
      ]
     },
     "execution_count": 5,
     "metadata": {},
     "output_type": "execute_result"
    }
   ],
   "source": [
    "merged_data.head()"
   ]
  },
  {
   "cell_type": "code",
   "execution_count": 6,
   "id": "c4954c9d",
   "metadata": {},
   "outputs": [],
   "source": [
    "merged_data.to_csv(r\"C:\\Users\\avani\\Downloads\\merged_data.csv\")"
   ]
  },
  {
   "cell_type": "code",
   "execution_count": 7,
   "id": "d1a6b773",
   "metadata": {},
   "outputs": [
    {
     "data": {
      "text/plain": [
       "(8047, 19)"
      ]
     },
     "execution_count": 7,
     "metadata": {},
     "output_type": "execute_result"
    }
   ],
   "source": [
    "merged_data.shape"
   ]
  },
  {
   "cell_type": "code",
   "execution_count": 8,
   "id": "adcda9c6",
   "metadata": {},
   "outputs": [
    {
     "data": {
      "text/html": [
       "<div>\n",
       "<style scoped>\n",
       "    .dataframe tbody tr th:only-of-type {\n",
       "        vertical-align: middle;\n",
       "    }\n",
       "\n",
       "    .dataframe tbody tr th {\n",
       "        vertical-align: top;\n",
       "    }\n",
       "\n",
       "    .dataframe thead th {\n",
       "        text-align: right;\n",
       "    }\n",
       "</style>\n",
       "<table border=\"1\" class=\"dataframe\">\n",
       "  <thead>\n",
       "    <tr style=\"text-align: right;\">\n",
       "      <th></th>\n",
       "      <th>Days to Ship</th>\n",
       "      <th>Discount</th>\n",
       "      <th>Actual Discount</th>\n",
       "      <th>Sales</th>\n",
       "      <th>Profit</th>\n",
       "      <th>Quantity</th>\n",
       "    </tr>\n",
       "  </thead>\n",
       "  <tbody>\n",
       "    <tr>\n",
       "      <th>count</th>\n",
       "      <td>8047.000000</td>\n",
       "      <td>8047.000000</td>\n",
       "      <td>8047.000000</td>\n",
       "      <td>8047.000000</td>\n",
       "      <td>8047.000000</td>\n",
       "      <td>8047.000000</td>\n",
       "    </tr>\n",
       "    <tr>\n",
       "      <th>mean</th>\n",
       "      <td>4.007332</td>\n",
       "      <td>0.110047</td>\n",
       "      <td>29.793078</td>\n",
       "      <td>291.845657</td>\n",
       "      <td>35.198211</td>\n",
       "      <td>3.772089</td>\n",
       "    </tr>\n",
       "    <tr>\n",
       "      <th>std</th>\n",
       "      <td>1.741232</td>\n",
       "      <td>0.181773</td>\n",
       "      <td>88.817656</td>\n",
       "      <td>485.212156</td>\n",
       "      <td>178.125844</td>\n",
       "      <td>2.203369</td>\n",
       "    </tr>\n",
       "    <tr>\n",
       "      <th>min</th>\n",
       "      <td>0.000000</td>\n",
       "      <td>0.000000</td>\n",
       "      <td>0.000000</td>\n",
       "      <td>3.000000</td>\n",
       "      <td>-3060.000000</td>\n",
       "      <td>1.000000</td>\n",
       "    </tr>\n",
       "    <tr>\n",
       "      <th>25%</th>\n",
       "      <td>3.000000</td>\n",
       "      <td>0.000000</td>\n",
       "      <td>0.000000</td>\n",
       "      <td>48.000000</td>\n",
       "      <td>1.000000</td>\n",
       "      <td>2.000000</td>\n",
       "    </tr>\n",
       "    <tr>\n",
       "      <th>50%</th>\n",
       "      <td>4.000000</td>\n",
       "      <td>0.000000</td>\n",
       "      <td>0.000000</td>\n",
       "      <td>117.000000</td>\n",
       "      <td>14.000000</td>\n",
       "      <td>3.000000</td>\n",
       "    </tr>\n",
       "    <tr>\n",
       "      <th>75%</th>\n",
       "      <td>5.000000</td>\n",
       "      <td>0.100000</td>\n",
       "      <td>22.000000</td>\n",
       "      <td>313.000000</td>\n",
       "      <td>47.000000</td>\n",
       "      <td>5.000000</td>\n",
       "    </tr>\n",
       "    <tr>\n",
       "      <th>max</th>\n",
       "      <td>7.000000</td>\n",
       "      <td>0.850000</td>\n",
       "      <td>1700.000000</td>\n",
       "      <td>6517.000000</td>\n",
       "      <td>2476.000000</td>\n",
       "      <td>14.000000</td>\n",
       "    </tr>\n",
       "  </tbody>\n",
       "</table>\n",
       "</div>"
      ],
      "text/plain": [
       "       Days to Ship     Discount  Actual Discount        Sales       Profit  \\\n",
       "count   8047.000000  8047.000000      8047.000000  8047.000000  8047.000000   \n",
       "mean       4.007332     0.110047        29.793078   291.845657    35.198211   \n",
       "std        1.741232     0.181773        88.817656   485.212156   178.125844   \n",
       "min        0.000000     0.000000         0.000000     3.000000 -3060.000000   \n",
       "25%        3.000000     0.000000         0.000000    48.000000     1.000000   \n",
       "50%        4.000000     0.000000         0.000000   117.000000    14.000000   \n",
       "75%        5.000000     0.100000        22.000000   313.000000    47.000000   \n",
       "max        7.000000     0.850000      1700.000000  6517.000000  2476.000000   \n",
       "\n",
       "          Quantity  \n",
       "count  8047.000000  \n",
       "mean      3.772089  \n",
       "std       2.203369  \n",
       "min       1.000000  \n",
       "25%       2.000000  \n",
       "50%       3.000000  \n",
       "75%       5.000000  \n",
       "max      14.000000  "
      ]
     },
     "execution_count": 8,
     "metadata": {},
     "output_type": "execute_result"
    }
   ],
   "source": [
    "# Summary statistics for the data\n",
    "merged_data.describe()\n"
   ]
  },
  {
   "cell_type": "code",
   "execution_count": 9,
   "id": "84f639e0",
   "metadata": {},
   "outputs": [
    {
     "data": {
      "text/plain": [
       "Order ID            object\n",
       "Order Date          object\n",
       "Customer Name       object\n",
       "City                object\n",
       "Country             object\n",
       "Region              object\n",
       "Segment             object\n",
       "Ship Date           object\n",
       "Ship Mode           object\n",
       "State               object\n",
       "Days to Ship         int64\n",
       "Product Name        object\n",
       "Discount           float64\n",
       "Actual Discount    float64\n",
       "Sales                int64\n",
       "Profit               int64\n",
       "Quantity             int64\n",
       "Category            object\n",
       "Sub-Category        object\n",
       "dtype: object"
      ]
     },
     "execution_count": 9,
     "metadata": {},
     "output_type": "execute_result"
    }
   ],
   "source": [
    "merged_data.dtypes"
   ]
  },
  {
   "cell_type": "code",
   "execution_count": 10,
   "id": "87ee0d60",
   "metadata": {},
   "outputs": [
    {
     "name": "stdout",
     "output_type": "stream",
     "text": [
      "Order ID           0\n",
      "Order Date         0\n",
      "Customer Name      0\n",
      "City               0\n",
      "Country            0\n",
      "Region             0\n",
      "Segment            0\n",
      "Ship Date          0\n",
      "Ship Mode          0\n",
      "State              0\n",
      "Days to Ship       0\n",
      "Product Name       0\n",
      "Discount           0\n",
      "Actual Discount    0\n",
      "Sales              0\n",
      "Profit             0\n",
      "Quantity           0\n",
      "Category           0\n",
      "Sub-Category       0\n",
      "dtype: int64\n"
     ]
    }
   ],
   "source": [
    "print(merged_data.isnull().sum())"
   ]
  },
  {
   "cell_type": "code",
   "execution_count": 11,
   "id": "622c42fc",
   "metadata": {},
   "outputs": [
    {
     "data": {
      "text/plain": [
       "0       False\n",
       "1       False\n",
       "2       False\n",
       "3       False\n",
       "4       False\n",
       "        ...  \n",
       "8042    False\n",
       "8043    False\n",
       "8044    False\n",
       "8045    False\n",
       "8046    False\n",
       "Length: 8047, dtype: bool"
      ]
     },
     "execution_count": 11,
     "metadata": {},
     "output_type": "execute_result"
    }
   ],
   "source": [
    "merged_data.duplicated()"
   ]
  },
  {
   "cell_type": "code",
   "execution_count": 12,
   "id": "e11bdfb6",
   "metadata": {},
   "outputs": [],
   "source": [
    "merged_data = merged_data.drop_duplicates()"
   ]
  },
  {
   "cell_type": "code",
   "execution_count": 13,
   "id": "5152f204",
   "metadata": {},
   "outputs": [
    {
     "data": {
      "text/plain": [
       "(8045, 19)"
      ]
     },
     "execution_count": 13,
     "metadata": {},
     "output_type": "execute_result"
    }
   ],
   "source": [
    "merged_data.shape"
   ]
  },
  {
   "cell_type": "code",
   "execution_count": 14,
   "id": "a645cab4",
   "metadata": {},
   "outputs": [
    {
     "data": {
      "text/plain": [
       "<bound method DataFrame.info of              Order ID Order Date        Customer Name        City  \\\n",
       "0     BN-2011-7407039     1-1-13           Ruby Patel   Stockholm   \n",
       "1     AZ-2011-9050313     1-3-13       Summer Hayward   Southport   \n",
       "2     AZ-2011-6674300     1-4-13     Devin Huddleston     Valence   \n",
       "3     BN-2011-2819714     1-4-13          Mary Parker  Birmingham   \n",
       "4     BN-2011-2819714     1-4-13          Mary Parker  Birmingham   \n",
       "...               ...        ...                  ...         ...   \n",
       "8042  AZ-2014-1412225   12-31-16          Leon Barnes   Worcester   \n",
       "8043  AZ-2014-7604524   12-31-16  Rebecca Chamberlain     Hamburg   \n",
       "8044  BN-2014-4140795   12-31-16      Daniel Hamilton   Eindhoven   \n",
       "8045  BN-2014-4140795   12-31-16      Daniel Hamilton   Eindhoven   \n",
       "8046  BN-2014-4140795   12-31-16      Daniel Hamilton   Eindhoven   \n",
       "\n",
       "             Country   Region      Segment Ship Date     Ship Mode  \\\n",
       "0             Sweden    North  Home Office    1-5-13  Economy Plus   \n",
       "1     United Kingdom    North     Consumer    1-7-13       Economy   \n",
       "2             France  Central     Consumer    1-8-13       Economy   \n",
       "3     United Kingdom    North    Corporate    1-9-13       Economy   \n",
       "4     United Kingdom    North    Corporate    1-9-13       Economy   \n",
       "...              ...      ...          ...       ...           ...   \n",
       "8042  United Kingdom    North     Consumer    1-1-17      Priority   \n",
       "8043         Germany  Central  Home Office    1-4-17       Economy   \n",
       "8044     Netherlands  Central  Home Office    1-5-17  Economy Plus   \n",
       "8045     Netherlands  Central  Home Office    1-5-17  Economy Plus   \n",
       "8046     Netherlands  Central  Home Office    1-5-17  Economy Plus   \n",
       "\n",
       "                     State  Days to Ship  \\\n",
       "0                Stockholm             4   \n",
       "1                  England             4   \n",
       "2     Auvergne-Rhône-Alpes             4   \n",
       "3                  England             5   \n",
       "4                  England             5   \n",
       "...                    ...           ...   \n",
       "8042               England             1   \n",
       "8043               Hamburg             4   \n",
       "8044         North Brabant             5   \n",
       "8045         North Brabant             5   \n",
       "8046         North Brabant             5   \n",
       "\n",
       "                               Product Name  Discount  Actual Discount  Sales  \\\n",
       "0               Enermax Note Cards, Premium       0.5             22.5     45   \n",
       "1        Dania Corner Shelving, Traditional       0.0              0.0    854   \n",
       "2     Binney & Smith Sketch Pad, Easy-Erase       0.0              0.0    140   \n",
       "3                Boston Markers, Easy-Erase       0.5             13.5     27   \n",
       "4               Eldon Folders, Single Width       0.5              8.5     17   \n",
       "...                                     ...       ...              ...    ...   \n",
       "8042        Fellowes Shelving, Single Width       0.0              0.0    289   \n",
       "8043        Wilson Jones Index Tab, Economy       0.0              0.0     32   \n",
       "8044      BIC Pencil Sharpener, Fluorescent       0.5             15.0     30   \n",
       "8045          Avery Binder Covers, Recycled       0.5             11.5     23   \n",
       "8046                    StarTech Phone, Red       0.5             54.0    108   \n",
       "\n",
       "      Profit  Quantity         Category Sub-Category  \n",
       "0        -26         3  Office Supplies        Paper  \n",
       "1        290         7        Furniture    Bookcases  \n",
       "2         21         3  Office Supplies          Art  \n",
       "3        -22         2  Office Supplies          Art  \n",
       "4         -1         2  Office Supplies      Storage  \n",
       "...      ...       ...              ...          ...  \n",
       "8042      75         5  Office Supplies      Storage  \n",
       "8043       8         5  Office Supplies      Binders  \n",
       "8044     -10         2  Office Supplies          Art  \n",
       "8045      -6         4  Office Supplies      Binders  \n",
       "8046     -19         3       Technology     Machines  \n",
       "\n",
       "[8045 rows x 19 columns]>"
      ]
     },
     "execution_count": 14,
     "metadata": {},
     "output_type": "execute_result"
    }
   ],
   "source": [
    "merged_data.info"
   ]
  },
  {
   "cell_type": "code",
   "execution_count": 15,
   "id": "02870122",
   "metadata": {},
   "outputs": [
    {
     "data": {
      "text/plain": [
       "<bound method NDFrame.describe of              Order ID Order Date        Customer Name        City  \\\n",
       "0     BN-2011-7407039     1-1-13           Ruby Patel   Stockholm   \n",
       "1     AZ-2011-9050313     1-3-13       Summer Hayward   Southport   \n",
       "2     AZ-2011-6674300     1-4-13     Devin Huddleston     Valence   \n",
       "3     BN-2011-2819714     1-4-13          Mary Parker  Birmingham   \n",
       "4     BN-2011-2819714     1-4-13          Mary Parker  Birmingham   \n",
       "...               ...        ...                  ...         ...   \n",
       "8042  AZ-2014-1412225   12-31-16          Leon Barnes   Worcester   \n",
       "8043  AZ-2014-7604524   12-31-16  Rebecca Chamberlain     Hamburg   \n",
       "8044  BN-2014-4140795   12-31-16      Daniel Hamilton   Eindhoven   \n",
       "8045  BN-2014-4140795   12-31-16      Daniel Hamilton   Eindhoven   \n",
       "8046  BN-2014-4140795   12-31-16      Daniel Hamilton   Eindhoven   \n",
       "\n",
       "             Country   Region      Segment Ship Date     Ship Mode  \\\n",
       "0             Sweden    North  Home Office    1-5-13  Economy Plus   \n",
       "1     United Kingdom    North     Consumer    1-7-13       Economy   \n",
       "2             France  Central     Consumer    1-8-13       Economy   \n",
       "3     United Kingdom    North    Corporate    1-9-13       Economy   \n",
       "4     United Kingdom    North    Corporate    1-9-13       Economy   \n",
       "...              ...      ...          ...       ...           ...   \n",
       "8042  United Kingdom    North     Consumer    1-1-17      Priority   \n",
       "8043         Germany  Central  Home Office    1-4-17       Economy   \n",
       "8044     Netherlands  Central  Home Office    1-5-17  Economy Plus   \n",
       "8045     Netherlands  Central  Home Office    1-5-17  Economy Plus   \n",
       "8046     Netherlands  Central  Home Office    1-5-17  Economy Plus   \n",
       "\n",
       "                     State  Days to Ship  \\\n",
       "0                Stockholm             4   \n",
       "1                  England             4   \n",
       "2     Auvergne-Rhône-Alpes             4   \n",
       "3                  England             5   \n",
       "4                  England             5   \n",
       "...                    ...           ...   \n",
       "8042               England             1   \n",
       "8043               Hamburg             4   \n",
       "8044         North Brabant             5   \n",
       "8045         North Brabant             5   \n",
       "8046         North Brabant             5   \n",
       "\n",
       "                               Product Name  Discount  Actual Discount  Sales  \\\n",
       "0               Enermax Note Cards, Premium       0.5             22.5     45   \n",
       "1        Dania Corner Shelving, Traditional       0.0              0.0    854   \n",
       "2     Binney & Smith Sketch Pad, Easy-Erase       0.0              0.0    140   \n",
       "3                Boston Markers, Easy-Erase       0.5             13.5     27   \n",
       "4               Eldon Folders, Single Width       0.5              8.5     17   \n",
       "...                                     ...       ...              ...    ...   \n",
       "8042        Fellowes Shelving, Single Width       0.0              0.0    289   \n",
       "8043        Wilson Jones Index Tab, Economy       0.0              0.0     32   \n",
       "8044      BIC Pencil Sharpener, Fluorescent       0.5             15.0     30   \n",
       "8045          Avery Binder Covers, Recycled       0.5             11.5     23   \n",
       "8046                    StarTech Phone, Red       0.5             54.0    108   \n",
       "\n",
       "      Profit  Quantity         Category Sub-Category  \n",
       "0        -26         3  Office Supplies        Paper  \n",
       "1        290         7        Furniture    Bookcases  \n",
       "2         21         3  Office Supplies          Art  \n",
       "3        -22         2  Office Supplies          Art  \n",
       "4         -1         2  Office Supplies      Storage  \n",
       "...      ...       ...              ...          ...  \n",
       "8042      75         5  Office Supplies      Storage  \n",
       "8043       8         5  Office Supplies      Binders  \n",
       "8044     -10         2  Office Supplies          Art  \n",
       "8045      -6         4  Office Supplies      Binders  \n",
       "8046     -19         3       Technology     Machines  \n",
       "\n",
       "[8045 rows x 19 columns]>"
      ]
     },
     "execution_count": 15,
     "metadata": {},
     "output_type": "execute_result"
    }
   ],
   "source": [
    "merged_data.describe"
   ]
  },
  {
   "cell_type": "code",
   "execution_count": 17,
   "id": "81b64291",
   "metadata": {},
   "outputs": [
    {
     "data": {
      "text/html": [
       "<div>\n",
       "<style scoped>\n",
       "    .dataframe tbody tr th:only-of-type {\n",
       "        vertical-align: middle;\n",
       "    }\n",
       "\n",
       "    .dataframe tbody tr th {\n",
       "        vertical-align: top;\n",
       "    }\n",
       "\n",
       "    .dataframe thead th {\n",
       "        text-align: right;\n",
       "    }\n",
       "</style>\n",
       "<table border=\"1\" class=\"dataframe\">\n",
       "  <thead>\n",
       "    <tr style=\"text-align: right;\">\n",
       "      <th></th>\n",
       "      <th>Days to Ship</th>\n",
       "      <th>Discount</th>\n",
       "      <th>Actual Discount</th>\n",
       "      <th>Sales</th>\n",
       "      <th>Profit</th>\n",
       "      <th>Quantity</th>\n",
       "    </tr>\n",
       "  </thead>\n",
       "  <tbody>\n",
       "    <tr>\n",
       "      <th>Days to Ship</th>\n",
       "      <td>1.000000</td>\n",
       "      <td>0.017547</td>\n",
       "      <td>-0.018932</td>\n",
       "      <td>-0.004393</td>\n",
       "      <td>0.014172</td>\n",
       "      <td>0.001623</td>\n",
       "    </tr>\n",
       "    <tr>\n",
       "      <th>Discount</th>\n",
       "      <td>0.017547</td>\n",
       "      <td>1.000000</td>\n",
       "      <td>0.426090</td>\n",
       "      <td>-0.026424</td>\n",
       "      <td>-0.351359</td>\n",
       "      <td>0.003633</td>\n",
       "    </tr>\n",
       "    <tr>\n",
       "      <th>Actual Discount</th>\n",
       "      <td>-0.018932</td>\n",
       "      <td>0.426090</td>\n",
       "      <td>1.000000</td>\n",
       "      <td>0.478885</td>\n",
       "      <td>-0.395889</td>\n",
       "      <td>0.207130</td>\n",
       "    </tr>\n",
       "    <tr>\n",
       "      <th>Sales</th>\n",
       "      <td>-0.004393</td>\n",
       "      <td>-0.026424</td>\n",
       "      <td>0.478885</td>\n",
       "      <td>1.000000</td>\n",
       "      <td>0.441218</td>\n",
       "      <td>0.353415</td>\n",
       "    </tr>\n",
       "    <tr>\n",
       "      <th>Profit</th>\n",
       "      <td>0.014172</td>\n",
       "      <td>-0.351359</td>\n",
       "      <td>-0.395889</td>\n",
       "      <td>0.441218</td>\n",
       "      <td>1.000000</td>\n",
       "      <td>0.098664</td>\n",
       "    </tr>\n",
       "    <tr>\n",
       "      <th>Quantity</th>\n",
       "      <td>0.001623</td>\n",
       "      <td>0.003633</td>\n",
       "      <td>0.207130</td>\n",
       "      <td>0.353415</td>\n",
       "      <td>0.098664</td>\n",
       "      <td>1.000000</td>\n",
       "    </tr>\n",
       "  </tbody>\n",
       "</table>\n",
       "</div>"
      ],
      "text/plain": [
       "                 Days to Ship  Discount  Actual Discount     Sales    Profit  \\\n",
       "Days to Ship         1.000000  0.017547        -0.018932 -0.004393  0.014172   \n",
       "Discount             0.017547  1.000000         0.426090 -0.026424 -0.351359   \n",
       "Actual Discount     -0.018932  0.426090         1.000000  0.478885 -0.395889   \n",
       "Sales               -0.004393 -0.026424         0.478885  1.000000  0.441218   \n",
       "Profit               0.014172 -0.351359        -0.395889  0.441218  1.000000   \n",
       "Quantity             0.001623  0.003633         0.207130  0.353415  0.098664   \n",
       "\n",
       "                 Quantity  \n",
       "Days to Ship     0.001623  \n",
       "Discount         0.003633  \n",
       "Actual Discount  0.207130  \n",
       "Sales            0.353415  \n",
       "Profit           0.098664  \n",
       "Quantity         1.000000  "
      ]
     },
     "execution_count": 17,
     "metadata": {},
     "output_type": "execute_result"
    }
   ],
   "source": [
    "merged_data.corr()"
   ]
  },
  {
   "cell_type": "code",
   "execution_count": 18,
   "id": "ecd41745",
   "metadata": {},
   "outputs": [
    {
     "data": {
      "image/png": "[encoded data removed]",
      "text/plain": [
       "<Figure size 1440x1080 with 1 Axes>"
      ]
     },
     "metadata": {
      "needs_background": "light"
     },
     "output_type": "display_data"
    }
   ],
   "source": [
    "# Set up the matplotlib figure size and style for the visualizations\n",
    "plt.figure(figsize=(20, 15))\n",
    "sns.set_style(\"whitegrid\")\n",
    "\n",
    "# 1. Distribution of Sales\n",
    "plt.subplot(3, 3, 1)\n",
    "sns.histplot(merged_data['Sales'], kde=True, bins=30, color='skyblue')\n",
    "plt.title('Distribution of Sales')\n",
    "plt.xlabel('Sales')\n",
    "plt.ylabel('Frequency')\n",
    "plt.show()"
   ]
  },
  {
   "cell_type": "code",
   "execution_count": 19,
   "id": "fd3386d9",
   "metadata": {},
   "outputs": [
    {
     "data": {
      "image/png": "[encoded data removed]",
      "text/plain": [
       "<Figure size 432x288 with 1 Axes>"
      ]
     },
     "metadata": {},
     "output_type": "display_data"
    }
   ],
   "source": [
    "# 2. Total Sales by Region\n",
    "sns.barplot(x=merged_data['Region'], y=merged_data['Sales'], estimator=sum)\n",
    "plt.title('Total Sales by Region')\n",
    "plt.ylabel('Total Sales')\n",
    "plt.show()"
   ]
  },
  {
   "cell_type": "code",
   "execution_count": 20,
   "id": "3c0ebdd3",
   "metadata": {},
   "outputs": [
    {
     "data": {
      "image/png": "[encoded data removed]",
      "text/plain": [
       "<Figure size 432x288 with 1 Axes>"
      ]
     },
     "metadata": {},
     "output_type": "display_data"
    }
   ],
   "source": [
    "# 3. Total Sales by Segment\n",
    "\n",
    "sns.barplot(x=merged_data['Segment'], y=merged_data['Sales'], estimator=sum)\n",
    "plt.title('Total Sales by Segment')\n",
    "plt.ylabel('Total Sales')\n",
    "plt.show()"
   ]
  },
  {
   "cell_type": "code",
   "execution_count": 21,
   "id": "9ec59b82",
   "metadata": {},
   "outputs": [
    {
     "data": {
      "image/png": "[encoded data removed]",
      "text/plain": [
       "<Figure size 432x288 with 1 Axes>"
      ]
     },
     "metadata": {},
     "output_type": "display_data"
    }
   ],
   "source": [
    "# 4. Total Sales by Ship Mode\n",
    "sns.barplot(x=merged_data['Ship Mode'], y=merged_data['Sales'], estimator=sum)\n",
    "plt.title('Total Sales by Ship Mode')\n",
    "plt.ylabel('Total Sales')\n",
    "plt.xticks(rotation=45)\n",
    "plt.show()"
   ]
  },
  {
   "cell_type": "code",
   "execution_count": 22,
   "id": "1d20d169",
   "metadata": {},
   "outputs": [
    {
     "data": {
      "image/png": "[encoded data removed]",
      "text/plain": [
       "<Figure size 432x288 with 1 Axes>"
      ]
     },
     "metadata": {},
     "output_type": "display_data"
    }
   ],
   "source": [
    "# 5. Total Sales by Category\n",
    "sns.barplot(x=merged_data['Category'], y=merged_data['Sales'], estimator=sum)\n",
    "plt.title('Total Sales by Category')\n",
    "plt.ylabel('Total Sales')\n",
    "plt.show()"
   ]
  },
  {
   "cell_type": "code",
   "execution_count": 23,
   "id": "5631b704",
   "metadata": {},
   "outputs": [
    {
     "data": {
      "image/png": "[encoded data removed]",
      "text/plain": [
       "<Figure size 432x288 with 1 Axes>"
      ]
     },
     "metadata": {},
     "output_type": "display_data"
    }
   ],
   "source": [
    "# 6. Total Sales by Sub-Category\n",
    "sns.barplot(x=merged_data['Sub-Category'], y=merged_data['Sales'], estimator=sum)\n",
    "plt.title('Total Sales by Sub-Category')\n",
    "plt.ylabel('Total Sales')\n",
    "plt.xticks(rotation=90)\n",
    "plt.show()\n",
    "\n"
   ]
  },
  {
   "cell_type": "code",
   "execution_count": 24,
   "id": "198113fc",
   "metadata": {},
   "outputs": [
    {
     "data": {
      "image/png": "[encoded data removed]",
      "text/plain": [
       "<Figure size 432x288 with 1 Axes>"
      ]
     },
     "metadata": {},
     "output_type": "display_data"
    }
   ],
   "source": [
    "# 7. Sales Trend over Time (based on Order Date)\n",
    "merged_data['Order Date'] = pd.to_datetime(merged_data['Order Date'])\n",
    "merged_data.groupby('Order Date')['Sales'].sum().plot()\n",
    "plt.title('Sales Trend over Time')\n",
    "plt.ylabel('Total Sales')\n",
    "plt.show()"
   ]
  },
  {
   "cell_type": "code",
   "execution_count": 25,
   "id": "47bf8ff6",
   "metadata": {},
   "outputs": [
    {
     "data": {
      "image/png": "[encoded data removed]",
      "text/plain": [
       "<Figure size 432x288 with 1 Axes>"
      ]
     },
     "metadata": {},
     "output_type": "display_data"
    }
   ],
   "source": [
    "# 8. Relationship between Discount and Sales\n",
    "sns.scatterplot(x=merged_data['Discount'], y=merged_data['Sales'])\n",
    "plt.title('Relationship between Discount and Sales')\n",
    "plt.show()\n"
   ]
  },
  {
   "cell_type": "code",
   "execution_count": 26,
   "id": "75286e06",
   "metadata": {},
   "outputs": [
    {
     "data": {
      "image/png": "[encoded data removed]",
      "text/plain": [
       "<Figure size 432x288 with 1 Axes>"
      ]
     },
     "metadata": {},
     "output_type": "display_data"
    }
   ],
   "source": [
    "# 9. Relationship between Quantity and Sales\n",
    "sns.scatterplot(x=merged_data['Quantity'], y=merged_data['Sales'])\n",
    "plt.title('Relationship between Quantity and Sales')\n",
    "\n",
    "plt.tight_layout()\n",
    "plt.show()\n"
   ]
  },
  {
   "cell_type": "code",
   "execution_count": 27,
   "id": "046b5f20",
   "metadata": {},
   "outputs": [
    {
     "data": {
      "image/png": "[encoded data removed]",
      "text/plain": [
       "<Figure size 1080x720 with 6 Axes>"
      ]
     },
     "metadata": {},
     "output_type": "display_data"
    }
   ],
   "source": [
    "import matplotlib.pyplot as plt\n",
    "import seaborn as sns\n",
    "\n",
    "# Set up the visualizations\n",
    "sns.set_style(\"whitegrid\")\n",
    "plt.figure(figsize=(15, 10))\n",
    "\n",
    "# Univariate Analysis\n",
    "\n",
    "# Plotting the distribution for some selected columns\n",
    "columns_to_plot = ['Days to Ship', 'Discount', 'Actual Discount', 'Sales', 'Profit', 'Quantity']\n",
    "\n",
    "for i, column in enumerate(columns_to_plot, 1):\n",
    "    plt.subplot(2, 3, i)\n",
    "    sns.histplot(merged_data[column], bins=30, kde=True)\n",
    "    plt.title(f'Distribution of {column}')\n",
    "    plt.xlabel(column)\n",
    "    plt.ylabel('Frequency')\n",
    "\n",
    "plt.tight_layout()\n",
    "plt.show()\n"
   ]
  },
  {
   "cell_type": "code",
   "execution_count": 28,
   "id": "4ec25428",
   "metadata": {},
   "outputs": [
    {
     "data": {
      "text/plain": [
       "Index(['Order ID', 'Order Date', 'Customer Name', 'City', 'Country', 'Region',\n",
       "       'Segment', 'Ship Date', 'Ship Mode', 'State', 'Days to Ship',\n",
       "       'Product Name', 'Discount', 'Actual Discount', 'Sales', 'Profit',\n",
       "       'Quantity', 'Category', 'Sub-Category'],\n",
       "      dtype='object')"
      ]
     },
     "execution_count": 28,
     "metadata": {},
     "output_type": "execute_result"
    }
   ],
   "source": [
    "merged_data.columns"
   ]
  },
  {
   "cell_type": "code",
   "execution_count": 29,
   "id": "f7972aaa",
   "metadata": {},
   "outputs": [
    {
     "name": "stdout",
     "output_type": "stream",
     "text": [
      "Numeric Columns: ['Days to Ship', 'Discount', 'Actual Discount', 'Sales', 'Profit', 'Quantity']\n",
      "Categorical Columns: ['Order ID', 'Customer Name', 'City', 'Country', 'Region', 'Segment', 'Ship Date', 'Ship Mode', 'State', 'Product Name', 'Category', 'Sub-Category']\n"
     ]
    }
   ],
   "source": [
    "# Identify numeric columns\n",
    "numeric_cols = merged_data.select_dtypes(include=['int64', 'float64']).columns.tolist()\n",
    "\n",
    "# Identify categorical columns\n",
    "categorical_cols = merged_data.select_dtypes(include=['object']).columns.tolist()\n",
    "\n",
    "print(\"Numeric Columns:\", numeric_cols)\n",
    "print(\"Categorical Columns:\", categorical_cols)"
   ]
  },
  {
   "cell_type": "code",
   "execution_count": 80,
   "id": "26e7f7b9",
   "metadata": {},
   "outputs": [],
   "source": [
    "# Handle categorical variables using one-hot encoding\n",
    "# Define the categorical columns\n",
    "categorical_colus =['City', 'Country', 'Region', 'Segment', 'Ship Mode', 'State', 'Category', 'Sub-Category','Product Name']\n",
    "\n",
    "\n"
   ]
  },
  {
   "cell_type": "code",
   "execution_count": 81,
   "id": "d18a15e9",
   "metadata": {},
   "outputs": [],
   "source": [
    "\n",
    "preprocessor = ColumnTransformer(\n",
    "    transformers=[\n",
    "        ('cat', OneHotEncoder(handle_unknown='ignore'), categorical_colus)\n",
    "    ]\n",
    ")\n",
    "\n",
    "# Create the pipeline with preprocessing and linear regression model\n",
    "pipeline = Pipeline([\n",
    "    ('preprocessor', preprocessor),\n",
    "    ('scaler', StandardScaler(with_mean=False)),  # Optionally, you can add a StandardScaler for feature scaling\n",
    "    ('regressor', RandomForestRegressor())\n",
    "])"
   ]
  },
  {
   "cell_type": "code",
   "execution_count": 82,
   "id": "7acb0789",
   "metadata": {},
   "outputs": [],
   "source": [
    "from sklearn.compose import ColumnTransformer\n",
    "from sklearn.pipeline import Pipeline"
   ]
  },
  {
   "cell_type": "code",
   "execution_count": 35,
   "id": "60f8dd1a",
   "metadata": {},
   "outputs": [],
   "source": [
    "# Handle scaling of numerical features\n",
    "numerical_cols = ['Days to Ship', 'Discount', 'Actual Discount', 'Sales', 'Profit', 'Quantity']\n",
    "scaler = StandardScaler()\n",
    "scaled_cols = scaler.fit_transform(merged_data[numerical_cols])\n",
    "scaled_data = pd.DataFrame(scaled_cols, columns=numerical_cols)\n",
    "\n"
   ]
  },
  {
   "cell_type": "code",
   "execution_count": 36,
   "id": "f601c31e",
   "metadata": {},
   "outputs": [
    {
     "data": {
      "text/plain": [
       "Index(['Order ID', 'Order Date', 'Customer Name', 'City', 'Country', 'Region',\n",
       "       'Segment', 'Ship Date', 'Ship Mode', 'State', 'Days to Ship',\n",
       "       'Product Name', 'Discount', 'Actual Discount', 'Sales', 'Profit',\n",
       "       'Quantity', 'Category', 'Sub-Category'],\n",
       "      dtype='object')"
      ]
     },
     "execution_count": 36,
     "metadata": {},
     "output_type": "execute_result"
    }
   ],
   "source": [
    "merged_data.columns"
   ]
  },
  {
   "cell_type": "code",
   "execution_count": 37,
   "id": "3391d68e",
   "metadata": {},
   "outputs": [],
   "source": [
    "# Create the column transformer\n",
    "transformer = ColumnTransformer([('encoder', OneHotEncoder(), categorical_colus)], remainder='passthrough')"
   ]
  },
  {
   "cell_type": "code",
   "execution_count": 38,
   "id": "53edc275",
   "metadata": {},
   "outputs": [],
   "source": [
    "columns_to_drop =['Order ID', 'Order Date', 'Customer Name', 'Discount', 'Sales', 'Profit','Ship Date', 'Days to Ship']"
   ]
  },
  {
   "cell_type": "code",
   "execution_count": 83,
   "id": "940d3727",
   "metadata": {
    "scrolled": true
   },
   "outputs": [
    {
     "data": {
      "text/html": [
       "<div>\n",
       "<style scoped>\n",
       "    .dataframe tbody tr th:only-of-type {\n",
       "        vertical-align: middle;\n",
       "    }\n",
       "\n",
       "    .dataframe tbody tr th {\n",
       "        vertical-align: top;\n",
       "    }\n",
       "\n",
       "    .dataframe thead th {\n",
       "        text-align: right;\n",
       "    }\n",
       "</style>\n",
       "<table border=\"1\" class=\"dataframe\">\n",
       "  <thead>\n",
       "    <tr style=\"text-align: right;\">\n",
       "      <th></th>\n",
       "      <th>City</th>\n",
       "      <th>Country</th>\n",
       "      <th>Region</th>\n",
       "      <th>Segment</th>\n",
       "      <th>Ship Mode</th>\n",
       "      <th>State</th>\n",
       "      <th>Product Name</th>\n",
       "      <th>Actual Discount</th>\n",
       "      <th>Quantity</th>\n",
       "      <th>Category</th>\n",
       "      <th>Sub-Category</th>\n",
       "    </tr>\n",
       "  </thead>\n",
       "  <tbody>\n",
       "    <tr>\n",
       "      <th>0</th>\n",
       "      <td>Stockholm</td>\n",
       "      <td>Sweden</td>\n",
       "      <td>North</td>\n",
       "      <td>Home Office</td>\n",
       "      <td>Economy Plus</td>\n",
       "      <td>Stockholm</td>\n",
       "      <td>Enermax Note Cards, Premium</td>\n",
       "      <td>22.5</td>\n",
       "      <td>3</td>\n",
       "      <td>Office Supplies</td>\n",
       "      <td>Paper</td>\n",
       "    </tr>\n",
       "    <tr>\n",
       "      <th>1</th>\n",
       "      <td>Southport</td>\n",
       "      <td>United Kingdom</td>\n",
       "      <td>North</td>\n",
       "      <td>Consumer</td>\n",
       "      <td>Economy</td>\n",
       "      <td>England</td>\n",
       "      <td>Dania Corner Shelving, Traditional</td>\n",
       "      <td>0.0</td>\n",
       "      <td>7</td>\n",
       "      <td>Furniture</td>\n",
       "      <td>Bookcases</td>\n",
       "    </tr>\n",
       "    <tr>\n",
       "      <th>2</th>\n",
       "      <td>Valence</td>\n",
       "      <td>France</td>\n",
       "      <td>Central</td>\n",
       "      <td>Consumer</td>\n",
       "      <td>Economy</td>\n",
       "      <td>Auvergne-Rhône-Alpes</td>\n",
       "      <td>Binney &amp; Smith Sketch Pad, Easy-Erase</td>\n",
       "      <td>0.0</td>\n",
       "      <td>3</td>\n",
       "      <td>Office Supplies</td>\n",
       "      <td>Art</td>\n",
       "    </tr>\n",
       "    <tr>\n",
       "      <th>3</th>\n",
       "      <td>Birmingham</td>\n",
       "      <td>United Kingdom</td>\n",
       "      <td>North</td>\n",
       "      <td>Corporate</td>\n",
       "      <td>Economy</td>\n",
       "      <td>England</td>\n",
       "      <td>Boston Markers, Easy-Erase</td>\n",
       "      <td>13.5</td>\n",
       "      <td>2</td>\n",
       "      <td>Office Supplies</td>\n",
       "      <td>Art</td>\n",
       "    </tr>\n",
       "    <tr>\n",
       "      <th>4</th>\n",
       "      <td>Birmingham</td>\n",
       "      <td>United Kingdom</td>\n",
       "      <td>North</td>\n",
       "      <td>Corporate</td>\n",
       "      <td>Economy</td>\n",
       "      <td>England</td>\n",
       "      <td>Eldon Folders, Single Width</td>\n",
       "      <td>8.5</td>\n",
       "      <td>2</td>\n",
       "      <td>Office Supplies</td>\n",
       "      <td>Storage</td>\n",
       "    </tr>\n",
       "  </tbody>\n",
       "</table>\n",
       "</div>"
      ],
      "text/plain": [
       "         City         Country   Region      Segment     Ship Mode  \\\n",
       "0   Stockholm          Sweden    North  Home Office  Economy Plus   \n",
       "1   Southport  United Kingdom    North     Consumer       Economy   \n",
       "2     Valence          France  Central     Consumer       Economy   \n",
       "3  Birmingham  United Kingdom    North    Corporate       Economy   \n",
       "4  Birmingham  United Kingdom    North    Corporate       Economy   \n",
       "\n",
       "                  State                           Product Name  \\\n",
       "0             Stockholm            Enermax Note Cards, Premium   \n",
       "1               England     Dania Corner Shelving, Traditional   \n",
       "2  Auvergne-Rhône-Alpes  Binney & Smith Sketch Pad, Easy-Erase   \n",
       "3               England             Boston Markers, Easy-Erase   \n",
       "4               England            Eldon Folders, Single Width   \n",
       "\n",
       "   Actual Discount  Quantity         Category Sub-Category  \n",
       "0             22.5         3  Office Supplies        Paper  \n",
       "1              0.0         7        Furniture    Bookcases  \n",
       "2              0.0         3  Office Supplies          Art  \n",
       "3             13.5         2  Office Supplies          Art  \n",
       "4              8.5         2  Office Supplies      Storage  "
      ]
     },
     "execution_count": 83,
     "metadata": {},
     "output_type": "execute_result"
    }
   ],
   "source": [
    "merged_data.drop(columns_to_drop , axis=1).head()"
   ]
  },
  {
   "cell_type": "code",
   "execution_count": 84,
   "id": "d0db589c",
   "metadata": {},
   "outputs": [],
   "source": [
    "X=merged_data.drop(columns_to_drop , axis=1)"
   ]
  },
  {
   "cell_type": "code",
   "execution_count": 85,
   "id": "060e4406",
   "metadata": {},
   "outputs": [],
   "source": [
    "# Transform the input features and target variable\n",
    "y = merged_data[\"Sales\"].values"
   ]
  },
  {
   "cell_type": "code",
   "execution_count": 86,
   "id": "5b997811",
   "metadata": {},
   "outputs": [],
   "source": [
    "# Split the data into training and testing sets\n",
    "X_train, X_test, y_train, y_test = train_test_split(X, y, test_size=0.20, random_state=0)"
   ]
  },
  {
   "cell_type": "code",
   "execution_count": 88,
   "id": "c2a60a56",
   "metadata": {},
   "outputs": [
    {
     "data": {
      "text/plain": [
       "Pipeline(steps=[('preprocessor',\n",
       "                 ColumnTransformer(transformers=[('cat',\n",
       "                                                  OneHotEncoder(handle_unknown='ignore'),\n",
       "                                                  ['City', 'Country', 'Region',\n",
       "                                                   'Segment', 'Ship Mode',\n",
       "                                                   'State', 'Category',\n",
       "                                                   'Sub-Category',\n",
       "                                                   'Product Name'])])),\n",
       "                ('scaler', StandardScaler(with_mean=False)),\n",
       "                ('regressor', RandomForestRegressor())])"
      ]
     },
     "execution_count": 88,
     "metadata": {},
     "output_type": "execute_result"
    }
   ],
   "source": [
    "# Fit the pipeline on the training data\n",
    "pipeline.fit(X_train, y_train)"
   ]
  },
  {
   "cell_type": "code",
   "execution_count": null,
   "id": "270a59bb",
   "metadata": {},
   "outputs": [],
   "source": [
    "X_train"
   ]
  },
  {
   "cell_type": "code",
   "execution_count": null,
   "id": "bdadefdf",
   "metadata": {},
   "outputs": [],
   "source": [
    "y_train"
   ]
  },
  {
   "cell_type": "code",
   "execution_count": 89,
   "id": "ac327078",
   "metadata": {},
   "outputs": [
    {
     "name": "stdout",
     "output_type": "stream",
     "text": [
      "0.9204862991264907\n",
      "0.23668061253380301\n"
     ]
    }
   ],
   "source": [
    "# Fit the pipeline on the training data\n",
    "pipeline.fit(X_train, y_train)\n",
    "\n",
    "score = pipeline.score(X_train, y_train)\n",
    "print(score)\n",
    "\n",
    "# Evaluate the model on the test data (if needed)\n",
    "score = pipeline.score(X_test, y_test)\n",
    "print(score)\n",
    "\n",
    "# Make predictions using the pipeline\n",
    "ypred = pipeline.predict(X_test)\n"
   ]
  },
  {
   "cell_type": "code",
   "execution_count": 42,
   "id": "5df14c37",
   "metadata": {},
   "outputs": [
    {
     "data": {
      "text/plain": [
       "RandomForestRegressor()"
      ]
     },
     "execution_count": 42,
     "metadata": {},
     "output_type": "execute_result"
    }
   ],
   "source": [
    "# Train the Random Forest model\n",
    "regressor = RandomForestRegressor()\n",
    "regressor.fit(X_train, y_train)"
   ]
  },
  {
   "cell_type": "code",
   "execution_count": 43,
   "id": "363e524e",
   "metadata": {},
   "outputs": [],
   "source": [
    "def mscore(model):\n",
    "    print('Training Score',model.score(X_train,y_train))  # Training accuracy\n",
    "    print('Testing Score',model.score(X_test,y_test))     # testing accuracy"
   ]
  },
  {
   "cell_type": "code",
   "execution_count": 44,
   "id": "c490d1ad",
   "metadata": {},
   "outputs": [
    {
     "name": "stdout",
     "output_type": "stream",
     "text": [
      "Training Score 0.9577943512280549\n",
      "Testing Score 0.7542733462620601\n"
     ]
    }
   ],
   "source": [
    "mscore(regressor)"
   ]
  },
  {
   "cell_type": "code",
   "execution_count": 45,
   "id": "1de53db3",
   "metadata": {},
   "outputs": [],
   "source": [
    "y_pred_random_forest =regressor.predict(X_test)"
   ]
  },
  {
   "cell_type": "code",
   "execution_count": 46,
   "id": "d27e4c07",
   "metadata": {},
   "outputs": [],
   "source": [
    "mse_rf = mean_squared_error(y_test, y_pred_random_forest)\n",
    "r2_rf = r2_score(y_test, y_pred_random_forest)"
   ]
  },
  {
   "cell_type": "code",
   "execution_count": 47,
   "id": "11a3d09c",
   "metadata": {},
   "outputs": [
    {
     "name": "stdout",
     "output_type": "stream",
     "text": [
      "Random Forest Regression:\n",
      "Mean Squared Error: 45382.658648974524\n",
      "R-squared: 0.7542733462620601\n",
      "\n"
     ]
    }
   ],
   "source": [
    "print(\"Random Forest Regression:\")\n",
    "print(\"Mean Squared Error:\", mse_rf)\n",
    "print(\"R-squared:\", r2_rf)\n",
    "print(\"\")"
   ]
  },
  {
   "cell_type": "code",
   "execution_count": 48,
   "id": "ec54c482",
   "metadata": {},
   "outputs": [
    {
     "data": {
      "text/plain": [
       "LinearRegression()"
      ]
     },
     "execution_count": 48,
     "metadata": {},
     "output_type": "execute_result"
    }
   ],
   "source": [
    "# Linear Regression\n",
    "lr = LinearRegression()\n",
    "lr.fit(X_train, y_train)"
   ]
  },
  {
   "cell_type": "code",
   "execution_count": 49,
   "id": "d3f9bc88",
   "metadata": {},
   "outputs": [],
   "source": [
    "y_pred_regression = lr.predict(X_test)"
   ]
  },
  {
   "cell_type": "code",
   "execution_count": 50,
   "id": "11662ad3",
   "metadata": {},
   "outputs": [],
   "source": [
    "mse = mean_squared_error(y_test, y_pred_regression)\n",
    "r2 = r2_score(y_test, y_pred_regression)"
   ]
  },
  {
   "cell_type": "code",
   "execution_count": 51,
   "id": "a13d77d7",
   "metadata": {},
   "outputs": [
    {
     "name": "stdout",
     "output_type": "stream",
     "text": [
      "Linear Regression:\n",
      "Mean Squared Error: 103452.90082359721\n",
      "R-squared: 0.43984914291838373\n",
      "\n"
     ]
    }
   ],
   "source": [
    "# Print evaluation metrics for regression models\n",
    "print(\"Linear Regression:\")\n",
    "print(\"Mean Squared Error:\", mse)\n",
    "print(\"R-squared:\", r2)\n",
    "print(\"\")\n"
   ]
  },
  {
   "cell_type": "code",
   "execution_count": 52,
   "id": "cce82a48",
   "metadata": {},
   "outputs": [
    {
     "name": "stdout",
     "output_type": "stream",
     "text": [
      "Training Score 0.8621556679533199\n",
      "Testing Score 0.43984914291838373\n"
     ]
    }
   ],
   "source": [
    "mscore(lr)"
   ]
  },
  {
   "cell_type": "code",
   "execution_count": 53,
   "id": "69a6b95c",
   "metadata": {},
   "outputs": [],
   "source": [
    "import pandas as pd\n",
    "from sklearn.model_selection import train_test_split\n",
    "from sklearn.linear_model import LinearRegression, Ridge, Lasso\n",
    "from sklearn.ensemble import RandomForestRegressor, GradientBoostingRegressor\n",
    "from xgboost import XGBRegressor\n",
    "from lightgbm import LGBMRegressor\n",
    "from sklearn.svm import SVR\n",
    "from sklearn.neighbors import KNeighborsRegressor\n",
    "from sklearn.neural_network import MLPRegressor\n",
    "from sklearn.metrics import mean_squared_error"
   ]
  },
  {
   "cell_type": "code",
   "execution_count": 54,
   "id": "a8616423",
   "metadata": {},
   "outputs": [
    {
     "data": {
      "text/plain": [
       "XGBRegressor(base_score=None, booster=None, callbacks=None,\n",
       "             colsample_bylevel=None, colsample_bynode=None,\n",
       "             colsample_bytree=None, early_stopping_rounds=None,\n",
       "             enable_categorical=False, eval_metric=None, feature_types=None,\n",
       "             gamma=None, gpu_id=None, grow_policy=None, importance_type=None,\n",
       "             interaction_constraints=None, learning_rate=None, max_bin=None,\n",
       "             max_cat_threshold=None, max_cat_to_onehot=None,\n",
       "             max_delta_step=None, max_depth=None, max_leaves=None,\n",
       "             min_child_weight=None, missing=nan, monotone_constraints=None,\n",
       "             n_estimators=100, n_jobs=None, num_parallel_tree=None,\n",
       "             predictor=None, random_state=None, ...)"
      ]
     },
     "execution_count": 54,
     "metadata": {},
     "output_type": "execute_result"
    }
   ],
   "source": [
    "XGBoost= XGBRegressor()\n",
    "XGBoost.fit(X_train, y_train)"
   ]
  },
  {
   "cell_type": "code",
   "execution_count": null,
   "id": "f714b5ad",
   "metadata": {},
   "outputs": [],
   "source": [
    "mscore(XGBoost)"
   ]
  },
  {
   "cell_type": "code",
   "execution_count": null,
   "id": "c5c9394f",
   "metadata": {},
   "outputs": [],
   "source": [
    "y_pred_xg =XGBoost.predict(X_test)"
   ]
  },
  {
   "cell_type": "code",
   "execution_count": null,
   "id": "839734d9",
   "metadata": {},
   "outputs": [],
   "source": [
    "mse = mean_squared_error(y_test, y_pred_xg)\n",
    "r2 = r2_score(y_test, y_pred_xg)"
   ]
  },
  {
   "cell_type": "code",
   "execution_count": null,
   "id": "26692656",
   "metadata": {},
   "outputs": [],
   "source": [
    "# Print evaluation metrics for regression models\n",
    "print(\"XGBoost:\")\n",
    "print(\"Mean Squared Error:\", mse)\n",
    "print(\"R-squared:\", r2)\n",
    "print(\"\")\n"
   ]
  },
  {
   "cell_type": "code",
   "execution_count": null,
   "id": "bb666798",
   "metadata": {},
   "outputs": [],
   "source": [
    "# Save the transformer and regressor as a pipeline\n",
    "pipeline = (transformer, regressor)\n",
    "with open('sale_pipeline.pkl', 'wb') as file:\n",
    "    pickle.dump(pipeline, file)"
   ]
  },
  {
   "cell_type": "code",
   "execution_count": null,
   "id": "aa41e762",
   "metadata": {},
   "outputs": [],
   "source": [
    "# Load the trained pipeline\n",
    "with open('sale_pipeline.pkl', 'rb') as file:\n",
    "    pipeline = pickle.load(file)"
   ]
  },
  {
   "cell_type": "code",
   "execution_count": null,
   "id": "0e4163af",
   "metadata": {},
   "outputs": [],
   "source": [
    "# Create a new dataset with 20 random data points\n",
    "new_dataset = merged_data.sample(n=20, random_state=42)\n"
   ]
  },
  {
   "cell_type": "code",
   "execution_count": null,
   "id": "d8daa449",
   "metadata": {},
   "outputs": [],
   "source": [
    "# Apply the saved model to predict the target column for the new dataset\n",
    "new_data = new_dataset.drop(\"Sales\", axis=1)"
   ]
  },
  {
   "cell_type": "code",
   "execution_count": null,
   "id": "096a3baf",
   "metadata": {},
   "outputs": [],
   "source": [
    "new_data.to_csv(r\"C:\\Users\\avani\\Downloads\\sample_submission.csv\")"
   ]
  },
  {
   "cell_type": "code",
   "execution_count": null,
   "id": "c36b1502",
   "metadata": {},
   "outputs": [],
   "source": [
    "sample = pd.read_csv(r\"C:\\Users\\avani\\Downloads\\sample_submission.csv\")\n",
    "sample.shape"
   ]
  },
  {
   "cell_type": "code",
   "execution_count": null,
   "id": "904c7197",
   "metadata": {},
   "outputs": [],
   "source": [
    "sample.head()"
   ]
  },
  {
   "cell_type": "code",
   "execution_count": null,
   "id": "b8d367fa",
   "metadata": {},
   "outputs": [],
   "source": [
    "sample = sample.drop(\"Unnamed: 0\", axis=1)"
   ]
  },
  {
   "cell_type": "code",
   "execution_count": null,
   "id": "cc006d4c",
   "metadata": {},
   "outputs": [],
   "source": [
    "# Transform the new data using the loaded transformer\n",
    "X_new = transformer.transform(new_data)"
   ]
  },
  {
   "cell_type": "code",
   "execution_count": null,
   "id": "8a468089",
   "metadata": {},
   "outputs": [],
   "source": [
    "# Make predictions using the regressor model\n",
    "predictions = regressor.predict(X_new)\n",
    "print(predictions)"
   ]
  },
  {
   "cell_type": "code",
   "execution_count": null,
   "id": "6f0e48dc",
   "metadata": {},
   "outputs": [],
   "source": [
    "#  Compare the actual data and predicted data\n",
    "new_data_with_predictions = new_dataset.copy()\n",
    "new_data_with_predictions[\"predicted_sales\"] = predictions\n",
    "new_data_with_predictions['predicted_sales'] = new_data_with_predictions['predicted_sales'].apply(lambda x: '{:.0f}'.format(x))\n",
    "\n",
    "# Print the actual and predicted data\n",
    "print(\"Actual Data and Predicted Data:\")\n",
    "new_data_with_predictions[[\"Sales\", \"predicted_sales\"]]\n"
   ]
  },
  {
   "cell_type": "code",
   "execution_count": null,
   "id": "2bfff1ec",
   "metadata": {},
   "outputs": [],
   "source": [
    "import joblib\n",
    "import pandas as pd\n",
    "from sklearn.preprocessing import StandardScaler"
   ]
  },
  {
   "cell_type": "code",
   "execution_count": null,
   "id": "884e227e",
   "metadata": {},
   "outputs": [],
   "source": [
    "\n",
    "\n",
    "# Make a prediction using the loaded model on the first entry of the test set\n",
    "sample_input = X_test_scaled[0].reshape(1, -1)\n",
    "loaded_model_prediction = loaded_rf_model.predict(sample_input)\n",
    "\n",
    "loaded_model_prediction[0]\n",
    "# Randomly sample 20 data points from the original dataset\n",
    "sample_data = encoded_data.sample(n=20, random_state=42)\n",
    "\n",
    "\n"
   ]
  },
  {
   "cell_type": "code",
   "execution_count": 77,
   "id": "8cda20f8",
   "metadata": {},
   "outputs": [
    {
     "data": {
      "text/plain": [
       "['sale_pipeline.joblib']"
      ]
     },
     "execution_count": 77,
     "metadata": {},
     "output_type": "execute_result"
    }
   ],
   "source": [
    "from joblib import dump\n",
    "\n",
    "dump(pipeline, 'sale_pipeline.joblib')\n"
   ]
  },
  {
   "cell_type": "code",
   "execution_count": null,
   "id": "581ceaef",
   "metadata": {},
   "outputs": [],
   "source": [
    "df1=df.sample(20)\n",
    "df1"
   ]
  },
  {
   "cell_type": "code",
   "execution_count": null,
   "id": "35619971",
   "metadata": {},
   "outputs": [],
   "source": [
    "df1.shape"
   ]
  },
  {
   "cell_type": "code",
   "execution_count": null,
   "id": "e61849fd",
   "metadata": {},
   "outputs": [],
   "source": [
    "df1.to_csv('sample_submission_sales.csv', index=False)"
   ]
  },
  {
   "cell_type": "code",
   "execution_count": null,
   "id": "cfbe7976",
   "metadata": {},
   "outputs": [],
   "source": [
    "df2=pd.read_csv(\"sample_submission_sales.csv\")\n",
    "df2.head()"
   ]
  },
  {
   "cell_type": "code",
   "execution_count": null,
   "id": "dbacb6b0",
   "metadata": {},
   "outputs": [],
   "source": [
    "df2.shape\n",
    "df.head()\n",
    "from sklearn.preprocessing import StandardScaler, OneHotEncoder, MinMaxScaler\n",
    "from sklearn.compose import ColumnTransformer# Initialize the MinMaxScaler\n",
    "scaler = MinMaxScaler()\n",
    "\n",
    "# Fit and transform the selected numeric features\n",
    "df[num_col] = scaler.fit_transform(df[num_col])\n",
    "# Convert categorical variables into numerical representation (e.g., one-hot encoding)\n",
    "df = pd.get_dummies(df, drop_first=True)"
   ]
  },
  {
   "cell_type": "code",
   "execution_count": null,
   "id": "da66362d",
   "metadata": {},
   "outputs": [],
   "source": [
    "# dropping selling_price column\n",
    "df2.drop(\"Sales\",axis=1,inplace=True)"
   ]
  },
  {
   "cell_type": "code",
   "execution_count": null,
   "id": "aea05907",
   "metadata": {},
   "outputs": [],
   "source": [
    "regressor.predict(df2)"
   ]
  },
  {
   "cell_type": "code",
   "execution_count": null,
   "id": "29c4fa1a",
   "metadata": {},
   "outputs": [],
   "source": []
  }
 ],
 "metadata": {
  "kernelspec": {
   "display_name": "Python 3 (ipykernel)",
   "language": "python",
   "name": "python3"
  },
  "language_info": {
   "codemirror_mode": {
    "name": "ipython",
    "version": 3
   },
   "file_extension": ".py",
   "mimetype": "text/x-python",
   "name": "python",
   "nbconvert_exporter": "python",
   "pygments_lexer": "ipython3",
   "version": "3.9.12"
  }
 },
 "nbformat": 4,
 "nbformat_minor": 5
}
